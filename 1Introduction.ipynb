{
 "cells": [
  {
   "cell_type": "markdown",
   "metadata": {},
   "source": [
    "What is Numpy?\n",
    "NumPy is a general-purpose array-processing package which provides a high-performance, homogenous, multidimensional array object, and tools for working with these arrays.\n",
    "\n",
    "It is the fundamental package for scientific computing with Python. It contains among other things:\n",
    "\n",
    "a powerful N-dimensional array object\n",
    "sophisticated (broadcasting) functions\n",
    "tools for integrating C/C++ and Fortran code\n",
    "useful linear algebra, Fourier transform, and random number capabilities\n",
    "Besides its obvious scientific uses, NumPy can also be used as an efficient multi-dimensional container of generic data. Arbitrary data-types can be defined. This allows NumPy to seamlessly and speedily integrate with a wide variety of databases.\n",
    "\n",
    "Python Lists vs. Numpy Arrays\n",
    "\n",
    "\n",
    "Size - Numpy data structures take up less space ## Storing List <img height=500 width=500 src=\"https://webcourses.ucf.edu/courses/1249560/files/64324060/download?wrap=1\">\n",
    "\n",
    "## Storing Array <img height=500 width=500 src=\"https://webcourses.ucf.edu/courses/1249560/files/64324040/download?wrap=1\">\n",
    "\n",
    "Performance - they have a need for speed and are faster than lists\n",
    "\n",
    "Functionality - SciPy and NumPy have optimized functions such as linear algebra operations built-in.\n",
    "\n",
    "Installation\n",
    "pip install numpy"
   ]
  },
  {
   "cell_type": "code",
   "execution_count": null,
   "metadata": {},
   "outputs": [],
   "source": []
  }
 ],
 "metadata": {
  "kernelspec": {
   "display_name": "Python 3",
   "language": "python",
   "name": "python3"
  },
  "language_info": {
   "codemirror_mode": {
    "name": "ipython",
    "version": 3
   },
   "file_extension": ".py",
   "mimetype": "text/x-python",
   "name": "python",
   "nbconvert_exporter": "python",
   "pygments_lexer": "ipython3",
   "version": "3.7.1"
  }
 },
 "nbformat": 4,
 "nbformat_minor": 2
}
